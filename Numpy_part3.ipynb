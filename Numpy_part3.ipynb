{
 "cells": [
  {
   "cell_type": "code",
   "execution_count": 1,
   "id": "bded72b0-d772-49fe-8637-614a711fd092",
   "metadata": {},
   "outputs": [],
   "source": [
    "import numpy as np"
   ]
  },
  {
   "cell_type": "code",
   "execution_count": 2,
   "id": "46d6ee25-a670-4c3f-9d7c-a2f0577d5a4e",
   "metadata": {},
   "outputs": [],
   "source": [
    "#Numpy - Array Manipulation."
   ]
  },
  {
   "cell_type": "code",
   "execution_count": 3,
   "id": "12529870-6a06-4c93-bf4a-bbd084957228",
   "metadata": {},
   "outputs": [],
   "source": [
    "arr = np.random.randint(1,10 , (4,4))"
   ]
  },
  {
   "cell_type": "code",
   "execution_count": 4,
   "id": "6a2d98af-9386-40a5-9b14-f2f54f60361b",
   "metadata": {},
   "outputs": [
    {
     "data": {
      "text/plain": [
       "array([[1, 1, 9, 3],\n",
       "       [7, 5, 4, 7],\n",
       "       [8, 2, 3, 5],\n",
       "       [5, 8, 4, 9]])"
      ]
     },
     "execution_count": 4,
     "metadata": {},
     "output_type": "execute_result"
    }
   ],
   "source": [
    "arr"
   ]
  },
  {
   "cell_type": "code",
   "execution_count": 6,
   "id": "313875d9-dbb7-4631-bd5b-974118da5de0",
   "metadata": {},
   "outputs": [
    {
     "data": {
      "text/plain": [
       "array([[1, 1],\n",
       "       [9, 3],\n",
       "       [7, 5],\n",
       "       [4, 7],\n",
       "       [8, 2],\n",
       "       [3, 5],\n",
       "       [5, 8],\n",
       "       [4, 9]])"
      ]
     },
     "execution_count": 6,
     "metadata": {},
     "output_type": "execute_result"
    }
   ],
   "source": [
    "arr.reshape(8,2)"
   ]
  },
  {
   "cell_type": "code",
   "execution_count": 7,
   "id": "5c932a76-cc9c-4727-9b81-462f63912afc",
   "metadata": {},
   "outputs": [
    {
     "data": {
      "text/plain": [
       "array([[1, 1, 9, 3],\n",
       "       [7, 5, 4, 7],\n",
       "       [8, 2, 3, 5],\n",
       "       [5, 8, 4, 9]])"
      ]
     },
     "execution_count": 7,
     "metadata": {},
     "output_type": "execute_result"
    }
   ],
   "source": [
    "arr"
   ]
  },
  {
   "cell_type": "code",
   "execution_count": 8,
   "id": "e0a3f89d-31e7-4fa3-9a23-578cb2d9a9af",
   "metadata": {},
   "outputs": [
    {
     "data": {
      "text/plain": [
       "array([[1, 7, 8, 5],\n",
       "       [1, 5, 2, 8],\n",
       "       [9, 4, 3, 4],\n",
       "       [3, 7, 5, 9]])"
      ]
     },
     "execution_count": 8,
     "metadata": {},
     "output_type": "execute_result"
    }
   ],
   "source": [
    "arr.T"
   ]
  },
  {
   "cell_type": "code",
   "execution_count": 9,
   "id": "4637a514-07b4-499a-a329-49052bf2364d",
   "metadata": {},
   "outputs": [
    {
     "data": {
      "text/plain": [
       "array([1, 1, 9, 3, 7, 5, 4, 7, 8, 2, 3, 5, 5, 8, 4, 9])"
      ]
     },
     "execution_count": 9,
     "metadata": {},
     "output_type": "execute_result"
    }
   ],
   "source": [
    "arr.flatten()"
   ]
  },
  {
   "cell_type": "code",
   "execution_count": 10,
   "id": "8b971939-8006-4d86-8efe-db8df744f18b",
   "metadata": {},
   "outputs": [
    {
     "data": {
      "text/plain": [
       "array([[1, 1, 9, 3],\n",
       "       [7, 5, 4, 7],\n",
       "       [8, 2, 3, 5],\n",
       "       [5, 8, 4, 9]])"
      ]
     },
     "execution_count": 10,
     "metadata": {},
     "output_type": "execute_result"
    }
   ],
   "source": [
    "arr"
   ]
  },
  {
   "cell_type": "code",
   "execution_count": 11,
   "id": "d0b8dfd4-562d-43e1-bc49-8f9fe7c7ae44",
   "metadata": {},
   "outputs": [
    {
     "data": {
      "text/plain": [
       "array([[[1, 1, 9, 3]],\n",
       "\n",
       "       [[7, 5, 4, 7]],\n",
       "\n",
       "       [[8, 2, 3, 5]],\n",
       "\n",
       "       [[5, 8, 4, 9]]])"
      ]
     },
     "execution_count": 11,
     "metadata": {},
     "output_type": "execute_result"
    }
   ],
   "source": [
    "np.expand_dims(arr,axis=1)"
   ]
  },
  {
   "cell_type": "code",
   "execution_count": 12,
   "id": "7a488086-09ad-479a-a06e-2a92fac14225",
   "metadata": {},
   "outputs": [
    {
     "data": {
      "text/plain": [
       "array([[[1, 1, 9, 3],\n",
       "        [7, 5, 4, 7],\n",
       "        [8, 2, 3, 5],\n",
       "        [5, 8, 4, 9]]])"
      ]
     },
     "execution_count": 12,
     "metadata": {},
     "output_type": "execute_result"
    }
   ],
   "source": [
    "np.expand_dims(arr,axis=0)"
   ]
  },
  {
   "cell_type": "code",
   "execution_count": 13,
   "id": "9f4aba40-6915-43a3-8eba-285ab9bb8e39",
   "metadata": {},
   "outputs": [],
   "source": [
    "data = np.array([[1] , [2] , [3]])"
   ]
  },
  {
   "cell_type": "code",
   "execution_count": 14,
   "id": "a39ee4e4-5e6c-4c09-b0be-457c32592a89",
   "metadata": {},
   "outputs": [
    {
     "data": {
      "text/plain": [
       "array([1, 2, 3])"
      ]
     },
     "execution_count": 14,
     "metadata": {},
     "output_type": "execute_result"
    }
   ],
   "source": [
    "np.squeeze(data)"
   ]
  },
  {
   "cell_type": "code",
   "execution_count": 15,
   "id": "dcec576b-1215-4b85-9aa3-b2b73ffa6bcf",
   "metadata": {},
   "outputs": [
    {
     "data": {
      "text/plain": [
       "array([1, 1, 1, 1, 2, 2, 2, 2, 3, 3, 3, 3])"
      ]
     },
     "execution_count": 15,
     "metadata": {},
     "output_type": "execute_result"
    }
   ],
   "source": [
    "np.repeat(data,4)"
   ]
  },
  {
   "cell_type": "code",
   "execution_count": 16,
   "id": "f70c7b5c-e94e-40e2-bf9d-4aca2a3564fa",
   "metadata": {},
   "outputs": [
    {
     "data": {
      "text/plain": [
       "array([[2],\n",
       "       [3],\n",
       "       [1]])"
      ]
     },
     "execution_count": 16,
     "metadata": {},
     "output_type": "execute_result"
    }
   ],
   "source": [
    "np.roll(data,2)"
   ]
  },
  {
   "cell_type": "code",
   "execution_count": 17,
   "id": "4e4250be-5efd-4ff3-a46b-5e9f8aa6b4ed",
   "metadata": {},
   "outputs": [
    {
     "data": {
      "text/plain": [
       "array([[1, 0, 0, 0],\n",
       "       [0, 2, 0, 0],\n",
       "       [0, 0, 3, 0],\n",
       "       [0, 0, 0, 4]])"
      ]
     },
     "execution_count": 17,
     "metadata": {},
     "output_type": "execute_result"
    }
   ],
   "source": [
    "np.diag(np.array([1,2,3,4]))"
   ]
  },
  {
   "cell_type": "code",
   "execution_count": 18,
   "id": "8f246923-3e25-4b47-95ae-05d4ddd1f77f",
   "metadata": {},
   "outputs": [],
   "source": [
    "#Numpy - Binary Operators"
   ]
  },
  {
   "cell_type": "code",
   "execution_count": 19,
   "id": "378101e1-de6a-4aec-8aa0-9bbdb2fb7c3a",
   "metadata": {},
   "outputs": [],
   "source": [
    "arr1 = np.random.randint(1,10 , (3,4))\n",
    "arr2 = np.random.randint(1,10 , (3,4))"
   ]
  },
  {
   "cell_type": "code",
   "execution_count": 20,
   "id": "7d56e493-ff90-426c-9765-f8008c070890",
   "metadata": {},
   "outputs": [
    {
     "data": {
      "text/plain": [
       "array([[2, 8, 5, 8],\n",
       "       [9, 1, 6, 8],\n",
       "       [6, 4, 5, 9]])"
      ]
     },
     "execution_count": 20,
     "metadata": {},
     "output_type": "execute_result"
    }
   ],
   "source": [
    "arr2"
   ]
  },
  {
   "cell_type": "code",
   "execution_count": 22,
   "id": "40be254a-c344-4b64-9000-4085381af501",
   "metadata": {},
   "outputs": [
    {
     "data": {
      "text/plain": [
       "array([[9, 8, 9, 2],\n",
       "       [3, 1, 6, 6],\n",
       "       [8, 9, 2, 7]])"
      ]
     },
     "execution_count": 22,
     "metadata": {},
     "output_type": "execute_result"
    }
   ],
   "source": [
    "arr1"
   ]
  },
  {
   "cell_type": "code",
   "execution_count": 23,
   "id": "4e5c01d9-efda-4155-ba4f-6c02c7294e73",
   "metadata": {},
   "outputs": [
    {
     "data": {
      "text/plain": [
       "array([[11, 16, 14, 10],\n",
       "       [12,  2, 12, 14],\n",
       "       [14, 13,  7, 16]])"
      ]
     },
     "execution_count": 23,
     "metadata": {},
     "output_type": "execute_result"
    }
   ],
   "source": [
    "arr1+arr2"
   ]
  },
  {
   "cell_type": "code",
   "execution_count": 24,
   "id": "cd35275a-e001-4370-acd5-6672c2be65fa",
   "metadata": {},
   "outputs": [
    {
     "data": {
      "text/plain": [
       "array([[18, 64, 45, 16],\n",
       "       [27,  1, 36, 48],\n",
       "       [48, 36, 10, 63]])"
      ]
     },
     "execution_count": 24,
     "metadata": {},
     "output_type": "execute_result"
    }
   ],
   "source": [
    "arr1*arr2"
   ]
  },
  {
   "cell_type": "code",
   "execution_count": 25,
   "id": "e691b9b7-939e-4079-a0d4-f44e9fa6d691",
   "metadata": {},
   "outputs": [
    {
     "data": {
      "text/plain": [
       "array([[4.5       , 1.        , 1.8       , 0.25      ],\n",
       "       [0.33333333, 1.        , 1.        , 0.75      ],\n",
       "       [1.33333333, 2.25      , 0.4       , 0.77777778]])"
      ]
     },
     "execution_count": 25,
     "metadata": {},
     "output_type": "execute_result"
    }
   ],
   "source": [
    "arr1/arr2"
   ]
  },
  {
   "cell_type": "code",
   "execution_count": 26,
   "id": "aeb6963a-00ec-4fc6-98b8-58c1b14eaa12",
   "metadata": {},
   "outputs": [
    {
     "data": {
      "text/plain": [
       "array([[ 7,  0,  4, -6],\n",
       "       [-6,  0,  0, -2],\n",
       "       [ 2,  5, -3, -2]])"
      ]
     },
     "execution_count": 26,
     "metadata": {},
     "output_type": "execute_result"
    }
   ],
   "source": [
    "arr1-arr2"
   ]
  },
  {
   "cell_type": "code",
   "execution_count": 27,
   "id": "c2dc89b0-406c-4e1a-b149-ba01e2a669ac",
   "metadata": {},
   "outputs": [
    {
     "data": {
      "text/plain": [
       "array([[      81, 16777216,    59049,      256],\n",
       "       [   19683,        1,    46656,  1679616],\n",
       "       [  262144,     6561,       32, 40353607]])"
      ]
     },
     "execution_count": 27,
     "metadata": {},
     "output_type": "execute_result"
    }
   ],
   "source": [
    "arr1**arr2"
   ]
  },
  {
   "cell_type": "code",
   "execution_count": 29,
   "id": "96073e8f-537e-4436-953e-f588340b85a7",
   "metadata": {},
   "outputs": [
    {
     "data": {
      "text/plain": [
       "array([[-10,  -9, -10,  -3],\n",
       "       [ -4,  -2,  -7,  -7],\n",
       "       [ -9, -10,  -3,  -8]])"
      ]
     },
     "execution_count": 29,
     "metadata": {},
     "output_type": "execute_result"
    }
   ],
   "source": [
    "~arr1 #####doubt"
   ]
  },
  {
   "cell_type": "code",
   "execution_count": 30,
   "id": "75892a1d-ef56-4bbb-a52e-1bf3cdfc2806",
   "metadata": {},
   "outputs": [
    {
     "data": {
      "text/plain": [
       "array([[9, 8, 9, 2],\n",
       "       [3, 1, 6, 6],\n",
       "       [8, 9, 2, 7]])"
      ]
     },
     "execution_count": 30,
     "metadata": {},
     "output_type": "execute_result"
    }
   ],
   "source": [
    "arr1"
   ]
  },
  {
   "cell_type": "code",
   "execution_count": 31,
   "id": "9e4e30db-a6b4-49e2-bb7f-f71492ea82ac",
   "metadata": {},
   "outputs": [
    {
     "data": {
      "text/plain": [
       "array([[ True, False,  True, False],\n",
       "       [False, False, False, False],\n",
       "       [ True,  True, False, False]])"
      ]
     },
     "execution_count": 31,
     "metadata": {},
     "output_type": "execute_result"
    }
   ],
   "source": [
    "arr1>arr2"
   ]
  },
  {
   "cell_type": "code",
   "execution_count": 32,
   "id": "7be3729c-d45a-436a-9a14-fe64670c1329",
   "metadata": {},
   "outputs": [],
   "source": [
    "#Numpy - String Functions."
   ]
  },
  {
   "cell_type": "code",
   "execution_count": 33,
   "id": "c7647016-d160-470c-aa6d-47e06d75fce3",
   "metadata": {},
   "outputs": [],
   "source": [
    "arr = np.array([\"sudh\" , \"kumar\"])"
   ]
  },
  {
   "cell_type": "code",
   "execution_count": 34,
   "id": "5a9fdb86-8439-4311-b516-961804d88564",
   "metadata": {},
   "outputs": [
    {
     "data": {
      "text/plain": [
       "array(['sudh', 'kumar'], dtype='<U5')"
      ]
     },
     "execution_count": 34,
     "metadata": {},
     "output_type": "execute_result"
    }
   ],
   "source": [
    "arr"
   ]
  },
  {
   "cell_type": "code",
   "execution_count": 35,
   "id": "c1d1fb9b-fc57-440c-a196-3dcdc42da0a2",
   "metadata": {},
   "outputs": [
    {
     "data": {
      "text/plain": [
       "array(['SUDH', 'KUMAR'], dtype='<U5')"
      ]
     },
     "execution_count": 35,
     "metadata": {},
     "output_type": "execute_result"
    }
   ],
   "source": [
    "np.char.upper(arr)"
   ]
  },
  {
   "cell_type": "code",
   "execution_count": 36,
   "id": "73624fec-4404-4d52-ab07-45eb1a430b78",
   "metadata": {},
   "outputs": [
    {
     "data": {
      "text/plain": [
       "array(['Sudh', 'Kumar'], dtype='<U5')"
      ]
     },
     "execution_count": 36,
     "metadata": {},
     "output_type": "execute_result"
    }
   ],
   "source": [
    "np.char.capitalize(arr)"
   ]
  },
  {
   "cell_type": "code",
   "execution_count": 37,
   "id": "bbc37e94-ca10-407f-9c2f-aa414a263c64",
   "metadata": {},
   "outputs": [
    {
     "data": {
      "text/plain": [
       "array(['Sudh', 'Kumar'], dtype='<U5')"
      ]
     },
     "execution_count": 37,
     "metadata": {},
     "output_type": "execute_result"
    }
   ],
   "source": [
    "np.char.title(arr)"
   ]
  },
  {
   "cell_type": "code",
   "execution_count": 38,
   "id": "340905d5-b466-42f3-859b-e65d7be932b6",
   "metadata": {},
   "outputs": [],
   "source": [
    "#Numpy - Mathematical Functions."
   ]
  },
  {
   "cell_type": "code",
   "execution_count": 39,
   "id": "345b04fe-02c2-4273-b5e2-dd8262240a80",
   "metadata": {},
   "outputs": [
    {
     "data": {
      "text/plain": [
       "array([[9, 8, 9, 2],\n",
       "       [3, 1, 6, 6],\n",
       "       [8, 9, 2, 7]])"
      ]
     },
     "execution_count": 39,
     "metadata": {},
     "output_type": "execute_result"
    }
   ],
   "source": [
    "arr1"
   ]
  },
  {
   "cell_type": "code",
   "execution_count": 40,
   "id": "05855890-b7bf-4f14-83fd-d290ee72bc06",
   "metadata": {},
   "outputs": [
    {
     "data": {
      "text/plain": [
       "array([[ 0.41211849,  0.98935825,  0.41211849,  0.90929743],\n",
       "       [ 0.14112001,  0.84147098, -0.2794155 , -0.2794155 ],\n",
       "       [ 0.98935825,  0.41211849,  0.90929743,  0.6569866 ]])"
      ]
     },
     "execution_count": 40,
     "metadata": {},
     "output_type": "execute_result"
    }
   ],
   "source": [
    "np.sin(arr1)"
   ]
  },
  {
   "cell_type": "code",
   "execution_count": 41,
   "id": "28b20ce7-a7f7-4910-9c09-59f9aa0b9312",
   "metadata": {},
   "outputs": [
    {
     "data": {
      "text/plain": [
       "array([[-0.91113026, -0.14550003, -0.91113026, -0.41614684],\n",
       "       [-0.9899925 ,  0.54030231,  0.96017029,  0.96017029],\n",
       "       [-0.14550003, -0.91113026, -0.41614684,  0.75390225]])"
      ]
     },
     "execution_count": 41,
     "metadata": {},
     "output_type": "execute_result"
    }
   ],
   "source": [
    "np.cos(arr1)"
   ]
  },
  {
   "cell_type": "code",
   "execution_count": 42,
   "id": "cc229970-50c2-44e3-8f18-805c0fb9a98f",
   "metadata": {},
   "outputs": [
    {
     "data": {
      "text/plain": [
       "array([[-0.45231566, -6.79971146, -0.45231566, -2.18503986],\n",
       "       [-0.14254654,  1.55740772, -0.29100619, -0.29100619],\n",
       "       [-6.79971146, -0.45231566, -2.18503986,  0.87144798]])"
      ]
     },
     "execution_count": 42,
     "metadata": {},
     "output_type": "execute_result"
    }
   ],
   "source": [
    "np.tan(arr1)"
   ]
  },
  {
   "cell_type": "code",
   "execution_count": 43,
   "id": "49f07cea-36c6-4972-83c5-489d22c8a967",
   "metadata": {},
   "outputs": [
    {
     "data": {
      "text/plain": [
       "array([[0.95424251, 0.90308999, 0.95424251, 0.30103   ],\n",
       "       [0.47712125, 0.        , 0.77815125, 0.77815125],\n",
       "       [0.90308999, 0.95424251, 0.30103   , 0.84509804]])"
      ]
     },
     "execution_count": 43,
     "metadata": {},
     "output_type": "execute_result"
    }
   ],
   "source": [
    "np.log10(arr1)"
   ]
  },
  {
   "cell_type": "code",
   "execution_count": 44,
   "id": "25529d64-259f-449a-a99e-5cf1ac107653",
   "metadata": {},
   "outputs": [
    {
     "data": {
      "text/plain": [
       "array([[8.10308393e+03, 2.98095799e+03, 8.10308393e+03, 7.38905610e+00],\n",
       "       [2.00855369e+01, 2.71828183e+00, 4.03428793e+02, 4.03428793e+02],\n",
       "       [2.98095799e+03, 8.10308393e+03, 7.38905610e+00, 1.09663316e+03]])"
      ]
     },
     "execution_count": 44,
     "metadata": {},
     "output_type": "execute_result"
    }
   ],
   "source": [
    "np.exp(arr1)"
   ]
  },
  {
   "cell_type": "code",
   "execution_count": 45,
   "id": "a214fde3-4c41-45df-8f1f-38128a2e4d4d",
   "metadata": {},
   "outputs": [
    {
     "data": {
      "text/plain": [
       "array([[81, 64, 81,  4],\n",
       "       [ 9,  1, 36, 36],\n",
       "       [64, 81,  4, 49]])"
      ]
     },
     "execution_count": 45,
     "metadata": {},
     "output_type": "execute_result"
    }
   ],
   "source": [
    "np.power(arr1,2)"
   ]
  },
  {
   "cell_type": "code",
   "execution_count": 46,
   "id": "3df415c8-d5e2-428c-8e5a-45dae342b1d7",
   "metadata": {},
   "outputs": [
    {
     "data": {
      "text/plain": [
       "5.833333333333333"
      ]
     },
     "execution_count": 46,
     "metadata": {},
     "output_type": "execute_result"
    }
   ],
   "source": [
    "np.mean(arr1\n",
    "       )"
   ]
  },
  {
   "cell_type": "code",
   "execution_count": 47,
   "id": "bcd1cdf3-ca85-4fe0-95f7-2644205aff33",
   "metadata": {},
   "outputs": [
    {
     "data": {
      "text/plain": [
       "6.5"
      ]
     },
     "execution_count": 47,
     "metadata": {},
     "output_type": "execute_result"
    }
   ],
   "source": [
    "np.median(arr1)"
   ]
  },
  {
   "cell_type": "code",
   "execution_count": 48,
   "id": "e231c475-0d1a-4a3e-a0ec-a1cd864e2131",
   "metadata": {},
   "outputs": [
    {
     "data": {
      "text/plain": [
       "2.9107081994288304"
      ]
     },
     "execution_count": 48,
     "metadata": {},
     "output_type": "execute_result"
    }
   ],
   "source": [
    "np.std(arr1)"
   ]
  },
  {
   "cell_type": "code",
   "execution_count": 49,
   "id": "76e594b7-4c69-4d91-ba3c-6350d662d63b",
   "metadata": {},
   "outputs": [
    {
     "data": {
      "text/plain": [
       "8.472222222222223"
      ]
     },
     "execution_count": 49,
     "metadata": {},
     "output_type": "execute_result"
    }
   ],
   "source": [
    "np.var(arr1)"
   ]
  },
  {
   "cell_type": "code",
   "execution_count": 50,
   "id": "c3298133-e858-4513-88e5-e9f5594f041d",
   "metadata": {},
   "outputs": [
    {
     "data": {
      "text/plain": [
       "1"
      ]
     },
     "execution_count": 50,
     "metadata": {},
     "output_type": "execute_result"
    }
   ],
   "source": [
    "np.min(arr1)"
   ]
  },
  {
   "cell_type": "code",
   "execution_count": 51,
   "id": "c4059a3b-e14b-42ac-ae2f-808a095b414c",
   "metadata": {},
   "outputs": [
    {
     "data": {
      "text/plain": [
       "9"
      ]
     },
     "execution_count": 51,
     "metadata": {},
     "output_type": "execute_result"
    }
   ],
   "source": [
    "np.max(arr1)"
   ]
  },
  {
   "cell_type": "code",
   "execution_count": 52,
   "id": "826f2395-641e-4f89-bd96-0f3d96a393e3",
   "metadata": {},
   "outputs": [],
   "source": [
    "#Numpy - Arithmetic Operations."
   ]
  },
  {
   "cell_type": "code",
   "execution_count": 53,
   "id": "9af3f566-848d-4172-9518-3521f573ae09",
   "metadata": {},
   "outputs": [
    {
     "data": {
      "text/plain": [
       "array([[9, 8, 9, 2],\n",
       "       [3, 1, 6, 6],\n",
       "       [8, 9, 2, 7]])"
      ]
     },
     "execution_count": 53,
     "metadata": {},
     "output_type": "execute_result"
    }
   ],
   "source": [
    "arr1"
   ]
  },
  {
   "cell_type": "code",
   "execution_count": 54,
   "id": "09e37ac2-4bf2-451d-93fa-9c1db9d63cab",
   "metadata": {},
   "outputs": [
    {
     "data": {
      "text/plain": [
       "array([[2, 8, 5, 8],\n",
       "       [9, 1, 6, 8],\n",
       "       [6, 4, 5, 9]])"
      ]
     },
     "execution_count": 54,
     "metadata": {},
     "output_type": "execute_result"
    }
   ],
   "source": [
    "arr2"
   ]
  },
  {
   "cell_type": "code",
   "execution_count": 55,
   "id": "2014c825-001b-4046-9d60-f873c87930b8",
   "metadata": {},
   "outputs": [
    {
     "data": {
      "text/plain": [
       "array([[ 7,  0,  4, -6],\n",
       "       [-6,  0,  0, -2],\n",
       "       [ 2,  5, -3, -2]])"
      ]
     },
     "execution_count": 55,
     "metadata": {},
     "output_type": "execute_result"
    }
   ],
   "source": [
    "arr1-arr2"
   ]
  },
  {
   "cell_type": "code",
   "execution_count": 56,
   "id": "f94e4600-9a15-4410-89e6-d465c28301f1",
   "metadata": {},
   "outputs": [
    {
     "data": {
      "text/plain": [
       "array([[ 7,  0,  4, -6],\n",
       "       [-6,  0,  0, -2],\n",
       "       [ 2,  5, -3, -2]])"
      ]
     },
     "execution_count": 56,
     "metadata": {},
     "output_type": "execute_result"
    }
   ],
   "source": [
    "np.subtract(arr1,arr2)"
   ]
  },
  {
   "cell_type": "code",
   "execution_count": 57,
   "id": "ded0ad90-bfb4-413e-bc7e-7326d51bb689",
   "metadata": {},
   "outputs": [
    {
     "data": {
      "text/plain": [
       "array([[18, 64, 45, 16],\n",
       "       [27,  1, 36, 48],\n",
       "       [48, 36, 10, 63]])"
      ]
     },
     "execution_count": 57,
     "metadata": {},
     "output_type": "execute_result"
    }
   ],
   "source": [
    "np.multiply(arr1,arr2)"
   ]
  },
  {
   "cell_type": "code",
   "execution_count": 58,
   "id": "53a6d537-60ef-45f1-8c50-db45f692d02f",
   "metadata": {},
   "outputs": [
    {
     "data": {
      "text/plain": [
       "array([[1, 0, 4, 2],\n",
       "       [3, 0, 0, 6],\n",
       "       [2, 1, 2, 7]])"
      ]
     },
     "execution_count": 58,
     "metadata": {},
     "output_type": "execute_result"
    }
   ],
   "source": [
    "np.mod(arr1,arr2)"
   ]
  },
  {
   "cell_type": "code",
   "execution_count": 59,
   "id": "f7fc9b4b-de21-4c8c-b89c-955fc184f596",
   "metadata": {},
   "outputs": [
    {
     "data": {
      "text/plain": [
       "array([[      81, 16777216,    59049,      256],\n",
       "       [   19683,        1,    46656,  1679616],\n",
       "       [  262144,     6561,       32, 40353607]])"
      ]
     },
     "execution_count": 59,
     "metadata": {},
     "output_type": "execute_result"
    }
   ],
   "source": [
    "np.power(arr1,arr2)"
   ]
  },
  {
   "cell_type": "code",
   "execution_count": 60,
   "id": "e2467780-e5d4-406f-a5ad-c5f579c8b7ac",
   "metadata": {},
   "outputs": [
    {
     "data": {
      "text/plain": [
       "array([[3.        , 2.82842712, 3.        , 1.41421356],\n",
       "       [1.73205081, 1.        , 2.44948974, 2.44948974],\n",
       "       [2.82842712, 3.        , 1.41421356, 2.64575131]])"
      ]
     },
     "execution_count": 60,
     "metadata": {},
     "output_type": "execute_result"
    }
   ],
   "source": [
    "np.sqrt(arr1)"
   ]
  },
  {
   "cell_type": "code",
   "execution_count": 61,
   "id": "77f27829-f0c5-4d37-8f70-e4d49a95897d",
   "metadata": {},
   "outputs": [],
   "source": [
    "#Numpy - Statistical Functions."
   ]
  },
  {
   "cell_type": "code",
   "execution_count": 62,
   "id": "d0573f89-8d18-40ae-8d86-a8e79688f7c6",
   "metadata": {},
   "outputs": [
    {
     "data": {
      "text/plain": [
       "array([[9, 8, 9, 2],\n",
       "       [3, 1, 6, 6],\n",
       "       [8, 9, 2, 7]])"
      ]
     },
     "execution_count": 62,
     "metadata": {},
     "output_type": "execute_result"
    }
   ],
   "source": [
    "arr1"
   ]
  },
  {
   "cell_type": "code",
   "execution_count": 63,
   "id": "0f74c803-d09a-49b7-af4f-2f19e0cd55cc",
   "metadata": {},
   "outputs": [
    {
     "data": {
      "text/plain": [
       "5.833333333333333"
      ]
     },
     "execution_count": 63,
     "metadata": {},
     "output_type": "execute_result"
    }
   ],
   "source": [
    "np.mean(arr1)"
   ]
  },
  {
   "cell_type": "code",
   "execution_count": 64,
   "id": "4ef23687-0c60-4d63-9e55-bd9a5f4932bc",
   "metadata": {},
   "outputs": [
    {
     "data": {
      "text/plain": [
       "2.9107081994288304"
      ]
     },
     "execution_count": 64,
     "metadata": {},
     "output_type": "execute_result"
    }
   ],
   "source": [
    "np.std(arr1)"
   ]
  },
  {
   "cell_type": "code",
   "execution_count": null,
   "id": "e5b03d75-6fa8-4417-b55b-8c7b0e596265",
   "metadata": {},
   "outputs": [],
   "source": []
  }
 ],
 "metadata": {
  "kernelspec": {
   "display_name": "Python 3 (ipykernel)",
   "language": "python",
   "name": "python3"
  },
  "language_info": {
   "codemirror_mode": {
    "name": "ipython",
    "version": 3
   },
   "file_extension": ".py",
   "mimetype": "text/x-python",
   "name": "python",
   "nbconvert_exporter": "python",
   "pygments_lexer": "ipython3",
   "version": "3.10.8"
  }
 },
 "nbformat": 4,
 "nbformat_minor": 5
}
