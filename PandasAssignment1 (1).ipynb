{
 "cells": [
  {
   "cell_type": "markdown",
   "id": "d1450456-f96f-43d4-8574-f3c2d5e94313",
   "metadata": {},
   "source": [
    "Consider the below code to answer further questions:\n",
    "\n",
    "import numpy as np\n",
    "\n",
    "list_ = [ ‘1’ , ’2’ , ‘3’ , ‘4’ , ‘5’ ]\n",
    "\n",
    "array_list = np.array(object = list_)"
   ]
  },
  {
   "cell_type": "markdown",
   "id": "ea662868-44e4-418a-afee-8cab905194c7",
   "metadata": {},
   "source": [
    "# Q1. Is there any difference in the data type of variables list_ and array_list? If there is then write a code to print the data types of both the variables."
   ]
  },
  {
   "cell_type": "markdown",
   "id": "81765046-eb36-45c9-8e82-009a248f0982",
   "metadata": {},
   "source": [
    "\n",
    "Yes, there is a difference in the data types of variables list_ and array_list.\n",
    "\n",
    "list_ is a Python list, while array_list is a NumPy array.\n",
    "\n",
    "We can print the data types of both variables using the type() function"
   ]
  },
  {
   "cell_type": "code",
   "execution_count": 1,
   "id": "46aa2b9e-d59f-4a19-8e25-d9658967b572",
   "metadata": {},
   "outputs": [
    {
     "name": "stdout",
     "output_type": "stream",
     "text": [
      "Data type of 'list_': <class 'list'>\n",
      "Data type of 'array_list': <class 'numpy.ndarray'>\n"
     ]
    }
   ],
   "source": [
    "import numpy as np\n",
    "\n",
    "list_ = ['1', '2', '3', '4', '5']\n",
    "\n",
    "# Converting the list to a NumPy array\n",
    "array_list = np.array(object=list_)\n",
    "\n",
    "# Printing the data types of both variables\n",
    "print(\"Data type of 'list_':\", type(list_))\n",
    "print(\"Data type of 'array_list':\", type(array_list))"
   ]
  },
  {
   "cell_type": "markdown",
   "id": "0e7991ba-1ceb-418c-9429-6153f9f84279",
   "metadata": {},
   "source": [
    "# Q2. Write a code to print the data type of each and every element of both the variables list_ and arra_list."
   ]
  },
  {
   "cell_type": "code",
   "execution_count": 2,
   "id": "4fcaddd6-21cf-407c-8b5f-f96ba8e7d2ad",
   "metadata": {},
   "outputs": [
    {
     "name": "stdout",
     "output_type": "stream",
     "text": [
      "Data type of elements in 'list_':\n",
      "<class 'str'>\n",
      "<class 'str'>\n",
      "<class 'str'>\n",
      "<class 'str'>\n",
      "<class 'str'>\n",
      "\n",
      "Data type of elements in 'array_list':\n",
      "<class 'numpy.str_'>\n",
      "<class 'numpy.str_'>\n",
      "<class 'numpy.str_'>\n",
      "<class 'numpy.str_'>\n",
      "<class 'numpy.str_'>\n"
     ]
    }
   ],
   "source": [
    "import numpy as np\n",
    "list_ = ['1', '2', '3', '4', '5']\n",
    "\n",
    "array_list = np.array(object=list_)\n",
    "\n",
    "# Printing the data type of each element in 'list_'\n",
    "print(\"Data type of elements in 'list_':\")\n",
    "for element in list_:\n",
    "    print(type(element))\n",
    "\n",
    "# Printing the data type of each element in 'array_list'\n",
    "print(\"\\nData type of elements in 'array_list':\")\n",
    "for element in array_list:\n",
    "    print(type(element))"
   ]
  },
  {
   "cell_type": "markdown",
   "id": "ee90dda8-0b44-4bce-8f84-3f87a25f78ff",
   "metadata": {},
   "source": [
    "# Q3. Considering the following changes in the variable, array_list: array_list = np.array(object = list_, dtype = int) Will there be any difference in the data type of the elements present in both the variables, list_ and arra_list? If so then print the data types of each and every element present in both the variables, list_ and arra_list."
   ]
  },
  {
   "cell_type": "markdown",
   "id": "092f311d-409c-41bb-8b8b-cab1a5c4c72c",
   "metadata": {},
   "source": [
    "Yes, there will be a difference in the data type of the elements present in both the variables list_ and array_list due to the specified dtype=int parameter in the np.array() function call. This parameter explicitly converts the elements to integers when creating the NumPy array."
   ]
  },
  {
   "cell_type": "code",
   "execution_count": 4,
   "id": "919626b9-0879-4a0c-9c67-90493d3792d3",
   "metadata": {},
   "outputs": [
    {
     "name": "stdout",
     "output_type": "stream",
     "text": [
      "Data type of elements in 'list_':\n",
      "<class 'str'>\n",
      "<class 'str'>\n",
      "<class 'str'>\n",
      "<class 'str'>\n",
      "<class 'str'>\n",
      "\n",
      "Data type of elements in 'array_list':\n",
      "<class 'numpy.int64'>\n",
      "<class 'numpy.int64'>\n",
      "<class 'numpy.int64'>\n",
      "<class 'numpy.int64'>\n",
      "<class 'numpy.int64'>\n"
     ]
    }
   ],
   "source": [
    "import numpy as np\n",
    "\n",
    "# Define the list\n",
    "list_ = ['1', '2', '3', '4', '5']\n",
    "\n",
    "# Convert the list to a NumPy array with data type set to integer\n",
    "array_list = np.array(object=list_, dtype=int)\n",
    "\n",
    "# Print the data type of each element in 'list_'\n",
    "print(\"Data type of elements in 'list_':\")\n",
    "for element in list_:\n",
    "    print(type(element))\n",
    "\n",
    "# Print the data type of each element in 'array_list'\n",
    "print(\"\\nData type of elements in 'array_list':\")\n",
    "for element in array_list:\n",
    "    print(type(element))"
   ]
  },
  {
   "cell_type": "markdown",
   "id": "8bbad523-c09f-4284-a479-8541b6099ea7",
   "metadata": {},
   "source": [
    "Consider the below code to answer further questions:\n",
    "    \n",
    "import numpy as np\n",
    "\n",
    "num_list = [ [ 1 , 2 , 3 ] , [ 4 , 5 , 6 ] ]\n",
    "\n",
    "num_array = np.array(object = num_list)"
   ]
  },
  {
   "cell_type": "markdown",
   "id": "388e1102-965f-4546-bb39-87b714263db9",
   "metadata": {},
   "source": [
    "# Q4. Write a code to find the following characteristics of variable, num_array:\n",
    "\n",
    "(i) shape\n",
    "(ii) size"
   ]
  },
  {
   "cell_type": "code",
   "execution_count": 5,
   "id": "e6846dfd-ebdc-4474-9b05-d6471dc5c9bd",
   "metadata": {},
   "outputs": [
    {
     "name": "stdout",
     "output_type": "stream",
     "text": [
      "Shape of num_array: (2, 3)\n",
      "Size of num_array: 6\n"
     ]
    }
   ],
   "source": [
    "import numpy as np\n",
    "\n",
    "num_array = np.array([[1, 2, 3], [4, 5, 6]])\n",
    "\n",
    "\n",
    "shape = num_array.shape\n",
    "print(\"Shape of num_array:\", shape)\n",
    "\n",
    "\n",
    "size = num_array.size\n",
    "print(\"Size of num_array:\", size)\n"
   ]
  },
  {
   "cell_type": "markdown",
   "id": "a29ddb60-355e-4a2f-9a77-446752c5c5f3",
   "metadata": {},
   "source": [
    "# Q5. Write a code to create numpy array of 3*3 matrix containing zeros only, using a numpy array creation function.\n",
    "[Hint: The size of the array will be 9 and the shape will be (3,3).]"
   ]
  },
  {
   "cell_type": "code",
   "execution_count": 6,
   "id": "44a8dbef-7f82-49ca-b777-0dbbc16a7065",
   "metadata": {},
   "outputs": [
    {
     "name": "stdout",
     "output_type": "stream",
     "text": [
      "Array of zeros:\n",
      "[[0. 0. 0.]\n",
      " [0. 0. 0.]\n",
      " [0. 0. 0.]]\n"
     ]
    }
   ],
   "source": [
    "import numpy as np\n",
    "\n",
    "# Create a NumPy array of zeros with shape (3, 3)\n",
    "zeros_array = np.zeros((3, 3))\n",
    "\n",
    "# Print the array\n",
    "print(\"Array of zeros:\")\n",
    "print(zeros_array)"
   ]
  },
  {
   "cell_type": "markdown",
   "id": "b1a41043-2e80-48bd-8b39-450872db0ecc",
   "metadata": {},
   "source": [
    "# Q6. Create an identity matrix of shape (5,5) using numpy functions?\n",
    "[Hint: An identity matrix is a matrix containing 1 diagonally and other elements will be 0.]"
   ]
  },
  {
   "cell_type": "code",
   "execution_count": 7,
   "id": "f544bdf2-4204-4f10-88c1-a0ede288e174",
   "metadata": {},
   "outputs": [
    {
     "name": "stdout",
     "output_type": "stream",
     "text": [
      "Identity matrix of shape (5, 5):\n",
      "[[1. 0. 0. 0. 0.]\n",
      " [0. 1. 0. 0. 0.]\n",
      " [0. 0. 1. 0. 0.]\n",
      " [0. 0. 0. 1. 0.]\n",
      " [0. 0. 0. 0. 1.]]\n"
     ]
    }
   ],
   "source": [
    "import numpy as np\n",
    "\n",
    "# Create an identity matrix of shape (5, 5)\n",
    "identity_matrix = np.identity(5)\n",
    "\n",
    "# Print the identity matrix\n",
    "print(\"Identity matrix of shape (5, 5):\")\n",
    "print(identity_matrix)\n"
   ]
  },
  {
   "cell_type": "code",
   "execution_count": null,
   "id": "62aa6cd6-d96f-4374-a626-db9480325cb3",
   "metadata": {},
   "outputs": [],
   "source": []
  }
 ],
 "metadata": {
  "kernelspec": {
   "display_name": "Python 3 (ipykernel)",
   "language": "python",
   "name": "python3"
  },
  "language_info": {
   "codemirror_mode": {
    "name": "ipython",
    "version": 3
   },
   "file_extension": ".py",
   "mimetype": "text/x-python",
   "name": "python",
   "nbconvert_exporter": "python",
   "pygments_lexer": "ipython3",
   "version": "3.10.8"
  }
 },
 "nbformat": 4,
 "nbformat_minor": 5
}
