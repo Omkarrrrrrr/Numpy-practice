{
 "cells": [
  {
   "cell_type": "code",
   "execution_count": 1,
   "id": "8cfe98b4-38f1-4a19-bbf7-164bfe388db4",
   "metadata": {},
   "outputs": [],
   "source": [
    "##Sort, Search & Counting Functions."
   ]
  },
  {
   "cell_type": "code",
   "execution_count": 2,
   "id": "ac22f8da-09b1-41bd-b6af-587d45cbe55c",
   "metadata": {},
   "outputs": [],
   "source": [
    "import numpy as np"
   ]
  },
  {
   "cell_type": "code",
   "execution_count": 3,
   "id": "2a0d47ce-3752-4f0f-9e78-fe2b85aa53f1",
   "metadata": {},
   "outputs": [],
   "source": [
    "arr = np.array([4,2,8,5,3,9,12,56])"
   ]
  },
  {
   "cell_type": "code",
   "execution_count": 4,
   "id": "afe4f6ed-dcb6-4413-ba6a-468bbcc6f32e",
   "metadata": {},
   "outputs": [
    {
     "data": {
      "text/plain": [
       "array([ 4,  2,  8,  5,  3,  9, 12, 56])"
      ]
     },
     "execution_count": 4,
     "metadata": {},
     "output_type": "execute_result"
    }
   ],
   "source": [
    "arr"
   ]
  },
  {
   "cell_type": "code",
   "execution_count": 5,
   "id": "0ebfc59b-8d20-430c-b281-255b5e9fe31a",
   "metadata": {},
   "outputs": [
    {
     "data": {
      "text/plain": [
       "array([ 2,  3,  4,  5,  8,  9, 12, 56])"
      ]
     },
     "execution_count": 5,
     "metadata": {},
     "output_type": "execute_result"
    }
   ],
   "source": [
    "np.sort(arr)"
   ]
  },
  {
   "cell_type": "code",
   "execution_count": 6,
   "id": "f56d1e61-7dd2-400b-997f-4b47b8d1dd18",
   "metadata": {},
   "outputs": [
    {
     "data": {
      "text/plain": [
       "5"
      ]
     },
     "execution_count": 6,
     "metadata": {},
     "output_type": "execute_result"
    }
   ],
   "source": [
    "np.searchsorted(arr,6)"
   ]
  },
  {
   "cell_type": "code",
   "execution_count": 7,
   "id": "0f01968c-4982-4023-b8fa-a4612294880a",
   "metadata": {},
   "outputs": [],
   "source": [
    "arr1 = np.array([0,324,645,65,6,6,0,0,0,234])"
   ]
  },
  {
   "cell_type": "code",
   "execution_count": 8,
   "id": "5376f383-4a5d-47ba-a479-9e4131aaa210",
   "metadata": {},
   "outputs": [
    {
     "data": {
      "text/plain": [
       "6"
      ]
     },
     "execution_count": 8,
     "metadata": {},
     "output_type": "execute_result"
    }
   ],
   "source": [
    "np.count_nonzero(arr1)"
   ]
  },
  {
   "cell_type": "code",
   "execution_count": 9,
   "id": "bc12ea00-d701-44f9-8213-bf34372d386f",
   "metadata": {},
   "outputs": [
    {
     "data": {
      "text/plain": [
       "(array([1, 2, 3, 4, 5, 9]),)"
      ]
     },
     "execution_count": 9,
     "metadata": {},
     "output_type": "execute_result"
    }
   ],
   "source": [
    "np.where(arr1 > 0 )"
   ]
  },
  {
   "cell_type": "code",
   "execution_count": 10,
   "id": "f1489aef-c4a0-4728-814b-bbd15ab9b433",
   "metadata": {},
   "outputs": [
    {
     "data": {
      "text/plain": [
       "array([324, 645,  65,   6,   6, 234])"
      ]
     },
     "execution_count": 10,
     "metadata": {},
     "output_type": "execute_result"
    }
   ],
   "source": [
    "np.extract(arr1 >2,arr1)"
   ]
  },
  {
   "cell_type": "code",
   "execution_count": 11,
   "id": "233f5c59-e970-4d5d-9f2c-dfaf0d195839",
   "metadata": {},
   "outputs": [],
   "source": [
    "#Numpy - Byte Swapping."
   ]
  },
  {
   "cell_type": "code",
   "execution_count": 12,
   "id": "97dd0606-d881-44e8-a2a2-fb32be8c31bc",
   "metadata": {},
   "outputs": [
    {
     "data": {
      "text/plain": [
       "array([  0, 324, 645,  65,   6,   6,   0,   0,   0, 234])"
      ]
     },
     "execution_count": 12,
     "metadata": {},
     "output_type": "execute_result"
    }
   ],
   "source": [
    "arr1"
   ]
  },
  {
   "cell_type": "code",
   "execution_count": 13,
   "id": "62209c25-a938-4d35-a012-676fd6b9f0f4",
   "metadata": {},
   "outputs": [
    {
     "data": {
      "text/plain": [
       "array([ 288230376151711744,  144115188075855872,  576460752303423488,\n",
       "        360287970189639680,  216172782113783808,  648518346341351424,\n",
       "        864691128455135232, 4035225266123964416])"
      ]
     },
     "execution_count": 13,
     "metadata": {},
     "output_type": "execute_result"
    }
   ],
   "source": [
    "arr.byteswap(True)"
   ]
  },
  {
   "cell_type": "code",
   "execution_count": 14,
   "id": "90a766c9-bbac-412e-932c-b300099a3413",
   "metadata": {},
   "outputs": [
    {
     "data": {
      "text/plain": [
       "array([ 288230376151711744,  144115188075855872,  576460752303423488,\n",
       "        360287970189639680,  216172782113783808,  648518346341351424,\n",
       "        864691128455135232, 4035225266123964416])"
      ]
     },
     "execution_count": 14,
     "metadata": {},
     "output_type": "execute_result"
    }
   ],
   "source": [
    "arr"
   ]
  },
  {
   "cell_type": "code",
   "execution_count": 15,
   "id": "9323bf96-e4b7-47c9-8f65-25b100dd4281",
   "metadata": {},
   "outputs": [
    {
     "data": {
      "text/plain": [
       "array([ 288230376151711744,  144115188075855872,  576460752303423488,\n",
       "        360287970189639680,  216172782113783808,  648518346341351424,\n",
       "        864691128455135232, 4035225266123964416])"
      ]
     },
     "execution_count": 15,
     "metadata": {},
     "output_type": "execute_result"
    }
   ],
   "source": [
    "arr"
   ]
  },
  {
   "cell_type": "code",
   "execution_count": 16,
   "id": "a04b3f8c-9e5c-4192-879d-9aa4bfa28aaf",
   "metadata": {},
   "outputs": [],
   "source": [
    "#Numpy - Copies &Views."
   ]
  },
  {
   "cell_type": "code",
   "execution_count": 18,
   "id": "8d43bcc0-9518-4e78-aeaa-99537575d12d",
   "metadata": {},
   "outputs": [
    {
     "data": {
      "text/plain": [
       "array([  0, 324, 645,  65,   6,   6,   0,   0,   0, 234])"
      ]
     },
     "execution_count": 18,
     "metadata": {},
     "output_type": "execute_result"
    }
   ],
   "source": [
    "arr1"
   ]
  },
  {
   "cell_type": "code",
   "execution_count": 19,
   "id": "dfa1e917-ec31-4f7e-8536-2b418e90c8f1",
   "metadata": {},
   "outputs": [],
   "source": [
    "a = np.copy(arr1)"
   ]
  },
  {
   "cell_type": "code",
   "execution_count": 20,
   "id": "562e89b0-34ef-48b9-be8b-59aa795a172a",
   "metadata": {},
   "outputs": [],
   "source": [
    "b = arr1.view()"
   ]
  },
  {
   "cell_type": "code",
   "execution_count": 21,
   "id": "1d3dcd52-ef2b-401a-ad3a-57028fc03e12",
   "metadata": {},
   "outputs": [],
   "source": [
    "b = arr1"
   ]
  },
  {
   "cell_type": "code",
   "execution_count": 22,
   "id": "7c1c520b-aa3b-434e-a855-a8b67e09f87f",
   "metadata": {},
   "outputs": [
    {
     "data": {
      "text/plain": [
       "array([  0, 324, 645,  65,   6,   6,   0,   0,   0, 234])"
      ]
     },
     "execution_count": 22,
     "metadata": {},
     "output_type": "execute_result"
    }
   ],
   "source": [
    "b"
   ]
  },
  {
   "cell_type": "code",
   "execution_count": null,
   "id": "959943f9-e187-475f-9cfa-6a36109e8ad2",
   "metadata": {},
   "outputs": [],
   "source": []
  }
 ],
 "metadata": {
  "kernelspec": {
   "display_name": "Python 3 (ipykernel)",
   "language": "python",
   "name": "python3"
  },
  "language_info": {
   "codemirror_mode": {
    "name": "ipython",
    "version": 3
   },
   "file_extension": ".py",
   "mimetype": "text/x-python",
   "name": "python",
   "nbconvert_exporter": "python",
   "pygments_lexer": "ipython3",
   "version": "3.10.8"
  }
 },
 "nbformat": 4,
 "nbformat_minor": 5
}
